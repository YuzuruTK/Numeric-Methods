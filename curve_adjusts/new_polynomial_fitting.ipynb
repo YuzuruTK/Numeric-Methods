{
 "cells": [
  {
   "cell_type": "markdown",
   "metadata": {},
   "source": [
    "# Polinomial"
   ]
  },
  {
   "cell_type": "code",
   "execution_count": 2,
   "metadata": {},
   "outputs": [
    {
     "data": {
      "text/plain": [
       "<Axes: >"
      ]
     },
     "execution_count": 2,
     "metadata": {},
     "output_type": "execute_result"
    },
    {
     "data": {
      "image/png": "[encoded data removed]",
      "text/plain": [
       "<Figure size 640x480 with 1 Axes>"
      ]
     },
     "metadata": {},
     "output_type": "display_data"
    }
   ],
   "source": [
    "import numpy as np\n",
    "import seaborn as sns\n",
    "\n",
    "# Lista de dados de X\n",
    "x_list = [0,1,2,3,4,5,6,7]\n",
    "# Lista de dados de Y\n",
    "y_list = [70,61,54,49,45,41,38,36]\n",
    "# Grau desejado do polinomio\n",
    "degree = 2\n",
    "\n",
    "# Criando um gráfico com os pontos que serão utilizados\n",
    "sns.scatterplot(x=x_list, y=y_list, color=\"r\")"
   ]
  },
  {
   "cell_type": "markdown",
   "metadata": {},
   "source": [
    "## Funções Utilizadas para montar a função polinomial"
   ]
  },
  {
   "cell_type": "code",
   "execution_count": null,
   "metadata": {},
   "outputs": [],
   "source": [
    "# Cria um elemento da Matriz A\n",
    "# A matriz A faz parte do sistema de equações normais usado para encontrar os coeficientes de um polinômio\n",
    "# que melhor ajusta um conjunto de pontos no método dos mínimos quadrados.\n",
    "def elem_a(j, i, x):\n",
    "    sum_x = 0\n",
    "    # Percorre todos os valores de X\n",
    "    for xi in x:\n",
    "        # Soma os valores de X elevados a (i + j), que correspondem às somas de potências necessárias na matriz A\n",
    "        sum_x += xi**(j+i)\n",
    "    # retorna o valor correspondente ao valor Xij da matriz A\n",
    "    return sum_x\n",
    "\n",
    "# Cria a Matriz A\n",
    "# A matriz A tem dimensão (n+1) x (n+1) e contém somas de potências de x.\n",
    "def calculate_a_matrix(n, x):\n",
    "    # Objeto que representa a Matriz A\n",
    "    matrix = []\n",
    "    # Percorre as linhas da matriz A\n",
    "    for j in range(n+1):  \n",
    "        # \"Array\" que representa uma linha na matriz A\n",
    "        row = []\n",
    "        # Percorre as colunas da matriz A\n",
    "        for i in range(n+1):  \n",
    "            # Calcula o elemento da matriz A\n",
    "            xij = elem_a(j, i, x)  \n",
    "            # Coloca o elemento na linha\n",
    "            row.append(xij)\n",
    "        # Coloca a linha na Matriz A\n",
    "        matrix.append(row)\n",
    "    return matrix\n",
    "\n",
    "# Cria um elemento da Matriz B\n",
    "# A matriz B representa o vetor de termos independentes no sistema de equações normais.\n",
    "def elem_b(j, x, y):\n",
    "    sum_y = 0\n",
    "    # Percorre todos os valores de X e Y\n",
    "    for iterator in range(len(x)):\n",
    "        # Cada elemento de B é a soma dos produtos de y pelos valores de x elevados a j\n",
    "        sum_y += y[iterator] * x[iterator]**(j)\n",
    "    return sum_y\n",
    "\n",
    "# Cria a Matriz B\n",
    "# A matriz B tem dimensão (n+1) x 1 e contém somas de produtos de x^j com y.\n",
    "def calculate_b_matrix(n, x, y):\n",
    "    matrix = []\n",
    "    # Percorre as linhas da matriz B\n",
    "    for j in range(n+1):  \n",
    "        # Calcula o elemento da matriz B\n",
    "        yij = elem_b(j, x, y)  \n",
    "        # Adiciona o elemento na Matriz B\n",
    "        matrix.append([yij])\n",
    "    return matrix\n"
   ]
  },
  {
   "cell_type": "markdown",
   "metadata": {},
   "source": [
    "# Calculo para fazer a Função polinomial"
   ]
  },
  {
   "cell_type": "code",
   "execution_count": 4,
   "metadata": {},
   "outputs": [
    {
     "name": "stdout",
     "output_type": "stream",
     "text": [
      "Matriz A:\n",
      "\n",
      "[[   8   28  140]\n",
      " [  28  140  784]\n",
      " [ 140  784 4676]]\n",
      "\n",
      "Matriz B:\n",
      "\n",
      "[[ 394]\n",
      " [1181]\n",
      " [5595]]\n",
      "\n",
      "Solução do sistema:\n",
      "\n",
      "[[69.33333333]\n",
      " [-8.29761905]\n",
      " [ 0.51190476]]\n"
     ]
    }
   ],
   "source": [
    "# Calcula a Matriz A\n",
    "matrix_a = np.asmatrix(calculate_a_matrix(degree, x_list))\n",
    "# Calcula a Matriz B\n",
    "matrix_b = np.asmatrix(calculate_b_matrix(degree, x_list, y_list))\n",
    "\n",
    "# Calcula a solução do sistema\n",
    "system_solution = np.linalg.inv(matrix_a).dot(matrix_b)\n",
    "\n",
    "print(\"Matriz A:\\n\")\n",
    "print(matrix_a)\n",
    "print(\"\\nMatriz B:\\n\")\n",
    "print(matrix_b)\n",
    "print(\"\\nSolução do sistema:\\n\")\n",
    "print(system_solution)"
   ]
  },
  {
   "cell_type": "markdown",
   "metadata": {},
   "source": [
    "## Descobrindo um valor de Y com base em um Valor de X indicado"
   ]
  },
  {
   "cell_type": "code",
   "execution_count": null,
   "metadata": {},
   "outputs": [
    {
     "name": "stdout",
     "output_type": "stream",
     "text": [
      "O valor de Y para X = 5 é: 40.643\n"
     ]
    }
   ],
   "source": [
    "x = int(input(\"Valor de X que se deseja calcular: \"))\n",
    "\n",
    "y = 0\n",
    "# Passa por todos os coeficientes do polinomio\n",
    "for i in range(len(system_solution)):\n",
    "    # faz o somatório dos coeficientes\n",
    "    y += system_solution[i,0] * (x ** i)\n",
    "\n",
    "print(f\"O valor de Y para X = {x} é: {y:.3f}\")"
   ]
  },
  {
   "cell_type": "markdown",
   "metadata": {},
   "source": [
    "# Geração de um gráfico com um intervalo de dados"
   ]
  },
  {
   "cell_type": "code",
   "execution_count": null,
   "metadata": {},
   "outputs": [
    {
     "name": "stdout",
     "output_type": "stream",
     "text": [
      "R²: 99.79 %\n"
     ]
    },
    {
     "data": {
      "text/plain": [
       "<Axes: >"
      ]
     },
     "execution_count": 7,
     "metadata": {},
     "output_type": "execute_result"
    },
    {
     "data": {
      "image/png": "[encoded data removed]",
      "text/plain": [
       "<Figure size 640x480 with 1 Axes>"
      ]
     },
     "metadata": {},
     "output_type": "display_data"
    }
   ],
   "source": [
    "# Gera uma lista de X do 0 até o maior numero da lista * 2, com espaçamento de 1 em 1\n",
    "generated_x_list = range(0, max(x_list) * 2, 1)\n",
    "# Lista dos valores previstos para Y\n",
    "predicted_y = []\n",
    "for xi in generated_x_list:\n",
    "    # Somatório do polinomio\n",
    "    y = 0\n",
    "    for i in range(len(system_solution)):\n",
    "        y += system_solution[i,0] * (xi ** i)\n",
    "    predicted_y.append(y)\n",
    "\n",
    "# Média dos valores de Y\n",
    "y_mean = np.mean(y_list)\n",
    "# SQT ou Soma dos Quadrados Totais\n",
    "sqt = np.sum((np.array(y_list) - y_mean) ** 2)\n",
    "# SQE ou Soma dos Quadrados do Erro\n",
    "sqe = np.sum((np.array(y_list) - np.array(predicted_y[0:max(x_list) + 1])) ** 2)\n",
    "# R²\n",
    "r_squared = 1 - (sqe / sqt)\n",
    "print(f\"R²: {r_squared * 100:.2f} %\")\n",
    "\n",
    "sns.scatterplot(x=x_list, y=y_list, color=\"r\")\n",
    "sns.lineplot(x=generated_x_list, y=predicted_y)"
   ]
  }
 ],
 "metadata": {
  "kernelspec": {
   "display_name": ".venv",
   "language": "python",
   "name": "python3"
  },
  "language_info": {
   "codemirror_mode": {
    "name": "ipython",
    "version": 3
   },
   "file_extension": ".py",
   "mimetype": "text/x-python",
   "name": "python",
   "nbconvert_exporter": "python",
   "pygments_lexer": "ipython3",
   "version": "3.13.2"
  }
 },
 "nbformat": 4,
 "nbformat_minor": 2
}
