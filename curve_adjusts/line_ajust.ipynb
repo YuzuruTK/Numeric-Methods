{
 "cells": [
  {
   "cell_type": "code",
   "execution_count": 2,
   "metadata": {},
   "outputs": [],
   "source": [
    "import numpy as np\n",
    "import matplotlib.pyplot as plt\n",
    "import pandas as pd"
   ]
  },
  {
   "cell_type": "code",
   "execution_count": 3,
   "metadata": {},
   "outputs": [],
   "source": [
    "\n",
    "def least_squares_fit(x_values, y_values):\n",
    "    n = len(x_values)\n",
    "    sum_x = sum(x_values)\n",
    "    sum_y = sum(y_values)\n",
    "\n",
    "    print(\"somatorio x dado: \", sum_x)\n",
    "    print(\"somatorio y dado: \", sum_y)\n",
    "    print(\"Ymedio\", sum_y/n)\n",
    "    sum_x_squared = sum(x ** 2 for x in x_values)\n",
    "    sum_xy = sum(x * y for x, y in zip(x_values, y_values))\n",
    "    print(\"somatorio de Xiˆ2: \", sum_x_squared)\n",
    "    print(\"somatorio Xi * Yi: \", sum_xy)\n",
    "    print(\"valor do n: \", n)\n",
    "    # Calculando os coeficientes da linha ajustada (a e b)\n",
    "    a = (n * sum_xy - sum_x * sum_y) / (n * sum_x_squared - sum_x ** 2)\n",
    "    b = (sum_y - a * sum_x) / n\n",
    "\n",
    "    # Calculando o coeficiente de determinação (R²)\n",
    "    y_mean = sum(y_values) / n\n",
    "    ss_total = sum((y - y_mean) ** 2 for y in y_values)\n",
    "    ss_res = sum((y - (a * x + b)) ** 2 for x, y in zip(x_values, y_values))\n",
    "    print(\"valor do SQT\", ss_total)\n",
    "    print(\"valor do SQE\", ss_res)\n",
    "    r_squared = 1 - (ss_res / ss_total)\n",
    "\n",
    "    return a, b, r_squared\n",
    "\n",
    "def generate_table(x_values, y_values):\n",
    "    table = []\n",
    "    n = len(x_values)\n",
    "    sum_x = sum(x_values)\n",
    "    sum_y = sum(y_values)\n",
    "    sum_x_squared = sum(x ** 2 for x in x_values)\n",
    "    sum_xy = sum(x * y for x, y in zip(x_values, y_values))\n",
    "\n",
    "    table.append([\"i\", \"xi\", \"yi\", \"xi^2\", \"xi*yi\"])\n",
    "    for i in range(n):\n",
    "        table.append([i+1, x_values[i], y_values[i], x_values[i]**2, x_values[i]*y_values[i]])\n",
    "\n",
    "    table.append([\"\", sum_x, sum_y, sum_x_squared, sum_xy])\n",
    "    return table\n"
   ]
  },
  {
   "cell_type": "code",
   "execution_count": 4,
   "metadata": {},
   "outputs": [
    {
     "name": "stdout",
     "output_type": "stream",
     "text": [
      "somatorio x dado:  26\n",
      "somatorio y dado:  79\n",
      "Ymedio 15.8\n",
      "somatorio de Xiˆ2:  162\n",
      "somatorio Xi * Yi:  571\n",
      "valor do n:  5\n",
      "valor do SQT 1286.8\n",
      "valor do SQE 329.1865671641791\n",
      "Coeficiente angular (a): 5.977611940298507\n",
      "Coeficiente linear (b): -15.283582089552237\n",
      "Equação da linha ajustada: y = 5.977611940298507 * x + -15.283582089552237\n",
      "Coeficiente de determinação (R²): 74.42% \n",
      "|   i |   xi |   yi |   xi^2 |   xi*yi |\n",
      "|----:|-----:|-----:|-------:|--------:|\n",
      "|   1 |    2 |    1 |      4 |       2 |\n",
      "|   2 |    3 |    3 |      9 |       9 |\n",
      "|   3 |    6 |   10 |     36 |      60 |\n",
      "|   4 |    7 |   20 |     49 |     140 |\n",
      "|   5 |    8 |   45 |     64 |     360 |\n"
     ]
    },
    {
     "data": {
      "image/png": "[encoded data removed]",
      "text/plain": [
       "<Figure size 640x480 with 1 Axes>"
      ]
     },
     "metadata": {},
     "output_type": "display_data"
    }
   ],
   "source": [
    "dados = pd.read_csv(\"../csv/quebrar_senha.csv\")\n",
    "\n",
    "x_values = dados[\"x\"].tolist() \n",
    "y_values = dados[\"y\"].tolist()\n",
    "\n",
    "a, b, r_squared = least_squares_fit(x_values, y_values)\n",
    "# Imprimindo os valores da linha ajustada e do R²\n",
    "print(\"Coeficiente angular (a):\", a)\n",
    "print(\"Coeficiente linear (b):\", b)\n",
    "print(\"Equação da linha ajustada: y =\", a, \"* x +\", b)\n",
    "print(f\"Coeficiente de determinação (R²): {round(r_squared * 100, 2)}% \")\n",
    "\n",
    "# Gerando os pontos da linha ajustada\n",
    "x_line = np.linspace(min(x_values), max(x_values), 100)\n",
    "y_line = a * x_line + b\n",
    "\n",
    "table = generate_table(x_values, y_values)\n",
    "\n",
    "tabela = pd.DataFrame(table[1:-1], columns=table[0])\n",
    "\n",
    "print(tabela.to_markdown(index=False))\n",
    "\n",
    "# Plotando os pontos e a linha ajustada\n",
    "plt.scatter(x_values, y_values, label='Pontos')\n",
    "plt.plot(x_line, y_line, color='red', label='Linha Ajustada')\n",
    "plt.xlabel('X')\n",
    "plt.ylabel('Y')\n",
    "plt.title('Mínimos Quadrados - Ajuste Linear')\n",
    "plt.legend()\n",
    "plt.grid(True)"
   ]
  },
  {
   "cell_type": "code",
   "execution_count": 14,
   "metadata": {},
   "outputs": [
    {
     "name": "stdout",
     "output_type": "stream",
     "text": [
      "Coeficientes do ajuste cúbico: [  5.97761194 -15.28358209]\n",
      "R^2: 0.2558179726174845\n"
     ]
    }
   ],
   "source": [
    "import numpy as np\n",
    "\n",
    "dados = pd.read_csv(\"../csv/quebrar_senha.csv\")\n",
    "\n",
    "x_values = dados[\"x\"].tolist() \n",
    "y_values = dados[\"y\"].tolist()\n",
    "\n",
    "# Realizando o ajuste cúbico\n",
    "coefficients = np.polyfit(x_values, y_values, 1)\n",
    "p = np.poly1d(coefficients)\n",
    "\n",
    "# Calculando o R^2\n",
    "y_mean = np.mean(y_values)\n",
    "sst = np.sum((y_values - y_mean)**2)\n",
    "ssr = np.sum((p(x_values) - y_mean)**2)\n",
    "r_squared = 1 - (ssr / sst)\n",
    "\n",
    "# Exibindo os resultados\n",
    "print(\"Coeficientes do ajuste cúbico:\", coefficients)\n",
    "print(\"R^2:\", r_squared)\n"
   ]
  }
 ],
 "metadata": {
  "kernelspec": {
   "display_name": ".venv",
   "language": "python",
   "name": "python3"
  },
  "language_info": {
   "codemirror_mode": {
    "name": "ipython",
    "version": 3
   },
   "file_extension": ".py",
   "mimetype": "text/x-python",
   "name": "python",
   "nbconvert_exporter": "python",
   "pygments_lexer": "ipython3",
   "version": "3.11.9"
  }
 },
 "nbformat": 4,
 "nbformat_minor": 2
}
