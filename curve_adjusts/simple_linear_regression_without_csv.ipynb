{
 "cells": [
  {
   "cell_type": "markdown",
   "metadata": {},
   "source": [
    "# Regressão Linear Simples\n",
    "### **Usar se é Significante a Correlação Linear Simples**\n",
    "\n",
    "- É usada para encontrar uma reta que melhor define os dados\n",
    "\n",
    "- Esta reta pode ser utilizada para prever dados de Y em função de X\n",
    "\n",
    "em resumo ser pra isso acima, caso descobrir algo a mais adicione"
   ]
  },
  {
   "cell_type": "code",
   "execution_count": null,
   "metadata": {},
   "outputs": [],
   "source": [
    "from math import sqrt\n",
    "import seaborn as sns\n",
    "\n",
    "x_values = [2,3,6,7,8]\n",
    "y_values = [1,3,10,20,45]"
   ]
  },
  {
   "cell_type": "markdown",
   "metadata": {},
   "source": [
    "# Primeira parte é achar o Coeficiente de Correlação\n",
    "\n",
    "- x_values = Lista com os valores da variavel X\n",
    "- y_values = Lista com os valores da variavel Y\n",
    "\n",
    "- n = Quantidade de Pares de Dados (tamanho da lista)\n",
    "\n",
    "- sum_of_x = Somatório dos valores da variavel X => $\\sum_x$ \n",
    "- sum_of_y = Somatório dos valores da variavel Y => $\\sum_y$ \n",
    "\n",
    "- sum_of_squared_x = Somatório dos valores ao quadrado da variavel X => $\\sum_{x²}$ \n",
    "- sum_of_squared_y = Somatório dos valores ao quadrado da variavel Y => $\\sum_{y²}$\n",
    "\n",
    "- sum_of_xy = Somatório dos valores de X multiplicado por Y => $\\sum_{x*y}$\n",
    "\n",
    "- correlation_coeficient = coeficiente de Correlação => $\\frac{\\sum_{xy} - \\frac{\\sum_{x} * \\sum{y}}{n}}{\\sqrt{\\sum{x^{2}} - \\frac{(\\sum{x})^{2}}{n}}  * \\sqrt{\\sum{y^{2}} - \\frac{(\\sum{y})^{2}}{n}}}$"
   ]
  },
  {
   "cell_type": "code",
   "execution_count": 12,
   "metadata": {},
   "outputs": [
    {
     "name": "stdout",
     "output_type": "stream",
     "text": [
      "\n",
      "N = 5\n",
      "Somatório de X = 26\n",
      "Somatório de Y = 79\n",
      "Somatório de X ao quadrado = 162\n",
      "Somatório de Y ao quadrado = 2535\n",
      "Somatório de X e Y = 571\n",
      "\n",
      "part1 = 160.2\n",
      "part2 = 5.176871642217915\n",
      "part3 = 35.87199464763564\n",
      "\n",
      "Coeficiente de Correlação é = 0.8626598561324824\n"
     ]
    }
   ],
   "source": [
    "n = len(x_values)\n",
    "print(f\"\\nN = {n}\")\n",
    "\n",
    "sum_of_x = sum(x_values)\n",
    "print(f\"Somatório de X = {sum_of_x}\")\n",
    "sum_of_y = sum(y_values)\n",
    "print(f\"Somatório de Y = {sum_of_y}\")\n",
    "\n",
    "sum_of_squared_x = sum([*map(lambda x : x**2, x_values)])\n",
    "print(f\"Somatório de X ao quadrado = {sum_of_squared_x}\")\n",
    "sum_of_squared_y = sum([*map(lambda y : y**2, y_values)])\n",
    "print(f\"Somatório de Y ao quadrado = {sum_of_squared_y}\")\n",
    "\n",
    "sum_of_xy = 0\n",
    "\n",
    "for i in range(n):\n",
    "    sum_of_xy += x_values[i] * y_values[i]\n",
    "\n",
    "print(f\"Somatório de X e Y = {sum_of_xy}\")\n",
    "\n",
    "part1 = sum_of_xy - ((sum_of_x * sum_of_y)/n)\n",
    "print(f\"\\npart1 = {part1}\")\n",
    "\n",
    "part2 = sqrt(sum_of_squared_x - ((sum_of_x**2)/n))\n",
    "print(f\"part2 = {part2}\")\n",
    "\n",
    "part3 = sqrt(sum_of_squared_y - ((sum_of_y**2)/n))\n",
    "print(f\"part3 = {part3}\\n\")\n",
    "\n",
    "\n",
    "correlation_coeficient = part1 / (part2 * part3)\n",
    "\n",
    "print(f\"Coeficiente de Correlação é = {correlation_coeficient}\")"
   ]
  },
  {
   "cell_type": "markdown",
   "metadata": {},
   "source": [
    "# Calculando a reta \n",
    "\n",
    "**Encheção de linguiça, mas explica oq vamos fazer**\n",
    "\n",
    "O Método dos Mínimos Quadrados (MMQ), ou Mínimos Quadrados\n",
    "Ordinários (MQO) é uma técnica de otimização matemática que procura\n",
    "encontrar o melhor ajuste para um conjunto de dados tentando minimizar a\n",
    "soma dos quadrados das diferenças entre o valor estimado e os dados\n",
    "observados (tais diferenças são chamadas resíduos). É uma forma de\n",
    "estimação amplamente utilizada. Consiste em um estimador que minimiza a\n",
    "soma dos quadrados dos resíduos da regressão, de forma a maximizar o grau\n",
    "de ajuste do modelo aos dados observados.\n",
    "\n",
    "\n",
    "Variaveis a serem Utilizadas:\n",
    "\n",
    "b = Coeficiente Angular, serve pra fazer a inclinação da linha pra definir o gráfico\n",
    "\n",
    "a = Coeficiente Linear, onde a reta corta o Eixo Y, não se usa em nada alem de ajustar o Gráfico\n",
    "\n",
    "R = Coeficiente de Correlação => Formula nas celulas acima\n",
    "\n",
    "determination_coeficient = Coeficiente de Determinação => $(R)^{2} * 100$\n",
    "\n",
    "Formula para Calcular o valor de Y para cada X, na reta => $Y = a + b.x$ "
   ]
  },
  {
   "cell_type": "code",
   "execution_count": 13,
   "metadata": {},
   "outputs": [
    {
     "name": "stdout",
     "output_type": "stream",
     "text": [
      "Valor b é = 5.977611940298507\n",
      "Valor a é = -15.283582089552237\n",
      "Valor do Coeficiente de Determinação = 74.41820273825152\n",
      "\n",
      "ou seja, a equação de reta que melhor Representa o conjunto de dados, é: \n",
      "\n",
      "Y = -15.28 + 5.98*x \n",
      "\n",
      "e ela representa o conjunto de dados em 74.42%\n"
     ]
    }
   ],
   "source": [
    "b = ((n* sum_of_xy) - (sum_of_x * sum_of_y)) / ((n * sum_of_squared_x) - (sum_of_x ** 2))\n",
    "\n",
    "print(f\"Valor b é = {b}\")\n",
    "\n",
    "a = (sum_of_y / n) - (b * (sum_of_x/n))\n",
    "print(f\"Valor a é = {a}\")\n",
    "\n",
    "determination_coeficient = (correlation_coeficient ** 2) * 100\n",
    "print(f\"Valor do Coeficiente de Determinação = {determination_coeficient}\\n\")\n",
    "\n",
    "print(f\"ou seja, a equação de reta que melhor Representa o conjunto de dados, é: \\n\\nY = {round(a,2)} + {round(b,2)}*x \\n\")\n",
    "print(f\"e ela representa o conjunto de dados em {round(determination_coeficient, 2)}%\")"
   ]
  },
  {
   "cell_type": "markdown",
   "metadata": {},
   "source": [
    "# Mostrando a reta \n"
   ]
  },
  {
   "cell_type": "code",
   "execution_count": 15,
   "metadata": {},
   "outputs": [
    {
     "data": {
      "image/png": "[encoded data removed]",
      "text/plain": [
       "<Figure size 640x480 with 1 Axes>"
      ]
     },
     "metadata": {},
     "output_type": "display_data"
    }
   ],
   "source": [
    "values_list_for_line = {}\n",
    "for x in x_values:\n",
    "    values_list_for_line[x] = (a+ b*x)\n",
    "\n",
    "grafico = sns.scatterplot(data={\"x\": x_values, \"y\": y_values}, x=\"x\", y=\"y\")\n",
    "grafico = sns.lineplot(data=values_list_for_line)"
   ]
  }
 ],
 "metadata": {
  "kernelspec": {
   "display_name": ".venv",
   "language": "python",
   "name": "python3"
  },
  "language_info": {
   "codemirror_mode": {
    "name": "ipython",
    "version": 3
   },
   "file_extension": ".py",
   "mimetype": "text/x-python",
   "name": "python",
   "nbconvert_exporter": "python",
   "pygments_lexer": "ipython3",
   "version": "3.13.2"
  }
 },
 "nbformat": 4,
 "nbformat_minor": 2
}
