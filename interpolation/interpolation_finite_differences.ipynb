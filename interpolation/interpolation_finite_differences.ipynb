{
 "cells": [
  {
   "cell_type": "markdown",
   "metadata": {},
   "source": [
    "# DONT EVEN STARTED"
   ]
  },
  {
   "cell_type": "code",
   "execution_count": 1,
   "metadata": {},
   "outputs": [],
   "source": [
    "import pandas as pd\n",
    "import numpy as np\n",
    "import seaborn as sns\n",
    "\n",
    "csv_folder = \"../csv/\"\n",
    "csv_name = \"viagem\"\n",
    "\n",
    "dataframe = pd.read_csv(csv_folder+csv_name+\".csv\")"
   ]
  },
  {
   "cell_type": "code",
   "execution_count": 2,
   "metadata": {},
   "outputs": [
    {
     "name": "stdout",
     "output_type": "stream",
     "text": [
      "['tempo', 'distancia']\n"
     ]
    }
   ],
   "source": [
    "print(dataframe.columns.to_list())\n",
    "\n",
    "column_x = \"tempo\"\n",
    "column_y = \"distancia\""
   ]
  },
  {
   "cell_type": "code",
   "execution_count": 3,
   "metadata": {},
   "outputs": [
    {
     "name": "stdout",
     "output_type": "stream",
     "text": [
      "   tempo  distancia\n",
      "0      0         20\n",
      "1      8         12\n",
      "2     20          6\n",
      "3     25          4\n"
     ]
    }
   ],
   "source": [
    "print(dataframe)\n",
    "\n",
    "# lista de elementos X\n",
    "list_x = dataframe[column_x].to_list()\n",
    "# lista de elementos Y\n",
    "list_y = dataframe[column_y].to_list()"
   ]
  },
  {
   "cell_type": "markdown",
   "metadata": {},
   "source": []
  },
  {
   "cell_type": "markdown",
   "metadata": {},
   "source": [
    "${D_{i}}^n = \\frac{{D_{yi + 1}}^{n-1} - {D_{yi}}^{n-1}}{Y_{i+N} - X_{i}}$ "
   ]
  }
 ],
 "metadata": {
  "kernelspec": {
   "display_name": ".venv",
   "language": "python",
   "name": "python3"
  },
  "language_info": {
   "codemirror_mode": {
    "name": "ipython",
    "version": 3
   },
   "file_extension": ".py",
   "mimetype": "text/x-python",
   "name": "python",
   "nbconvert_exporter": "python",
   "pygments_lexer": "ipython3",
   "version": "3.11.9"
  }
 },
 "nbformat": 4,
 "nbformat_minor": 2
}
