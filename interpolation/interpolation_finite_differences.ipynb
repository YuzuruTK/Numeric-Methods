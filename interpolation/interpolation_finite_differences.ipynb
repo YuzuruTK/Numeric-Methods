{
 "cells": [
  {
   "cell_type": "markdown",
   "metadata": {},
   "source": [
    "# DONT EVEN STARTED"
   ]
  },
  {
   "cell_type": "code",
   "execution_count": 4,
   "metadata": {},
   "outputs": [
    {
     "name": "stdout",
     "output_type": "stream",
     "text": [
      "Matriz de diferenças finitas:\n",
      " 22.0000\t 8.0000\t 17.0000\t-28.0000\t 38.0000\t\n",
      " 30.0000\t 25.0000\t-11.0000\t 10.0000\t 0.0000\t\n",
      " 55.0000\t 14.0000\t-1.0000\t 0.0000\t 0.0000\t\n",
      " 69.0000\t 13.0000\t 0.0000\t 0.0000\t 0.0000\t\n",
      " 82.0000\t 0.0000\t 0.0000\t 0.0000\t 0.0000\t\n",
      "|   0 |   1 |   2 |   3 |   4 |\n",
      "|----:|----:|----:|----:|----:|\n",
      "|  22 |   8 |  17 | -28 |  38 |\n",
      "|  30 |  25 | -11 |  10 |   0 |\n",
      "|  55 |  14 |  -1 |   0 |   0 |\n",
      "|  69 |  13 |   0 |   0 |   0 |\n",
      "|  82 |   0 |   0 |   0 |   0 |\n",
      "A aproximacao encontrada para f(8.000000) = 55.0000\n"
     ]
    },
    {
     "data": {
      "image/png": "[encoded data removed]",
      "text/plain": [
       "<Figure size 640x480 with 1 Axes>"
      ]
     },
     "metadata": {},
     "output_type": "display_data"
    }
   ],
   "source": [
    "import matplotlib.pyplot as plt\n",
    "import pandas as pd\n",
    "\n",
    "def metodo_diferencas_finitas():\n",
    "\n",
    "    # list_x e valores de f(x)\n",
    "    list_x = [0,4, 8, 12, 16]\n",
    "    list_y = [22,30,55,69,82]\n",
    "\n",
    "    # Leitura do ponto a ser estimado\n",
    "    x = 8  #Valor do tempo que foi passado na função\n",
    "\n",
    "    # Quantidade de list_x\n",
    "    quant_pontos = len(list_x)\n",
    "\n",
    "    # Cálculo do espaçamento entre os list_x\n",
    "    h = list_x[1] - list_x[0]\n",
    "\n",
    "    # Inicialização da matriz para armazenar as diferenças finitas\n",
    "    matriz_diferencas = [[0] * quant_pontos for _ in range(quant_pontos)]\n",
    "\n",
    "    # Preenchimento da primeira coluna com os valores de f(x)\n",
    "    for i in range(quant_pontos):\n",
    "        matriz_diferencas[i][0] = list_y[i]\n",
    "\n",
    "    # Cálculo das diferenças finitas\n",
    "    for j in range(1, quant_pontos):\n",
    "        for i in range(quant_pontos - j):\n",
    "            matriz_diferencas[i][j] = matriz_diferencas[i +\n",
    "                                                        1][j-1] - matriz_diferencas[i][j-1]\n",
    "\n",
    "    # Impressão da matriz de diferenças finitas\n",
    "    matrixxx = pd.DataFrame(matriz_diferencas)\n",
    "    print(matrixxx.to_markdown(index=False))\n",
    "\n",
    "    # Cálculo da estimativa utilizando a fórmula de diferenças finitas\n",
    "    aprox = matriz_diferencas[0][0]\n",
    "    termo = 1\n",
    "    for j in range(1, quant_pontos):\n",
    "        termo *= (x - list_x[j-1]) / (j * h)\n",
    "        aprox += termo * matriz_diferencas[0][j]\n",
    "\n",
    "    # Impressão da aproximação\n",
    "    print('A aproximacao encontrada para f(%f) = %.4f' % (x, aprox))\n",
    "\n",
    "    # Plotagem dos list_x e da estimativa\n",
    "    plt.scatter(list_x, list_y, color='red', label='list_x conhecidos')\n",
    "    plt.scatter(x, aprox, color='blue', label='Estimativa para f(x)')\n",
    "    plt.xlabel('x')\n",
    "    plt.ylabel('f(x)')\n",
    "    plt.title('Gráfico de list_x e Estimativa')\n",
    "    plt.legend()\n",
    "    plt.grid(True)\n",
    "    plt.show()\n",
    "\n",
    "\n",
    "# Execução do método\n",
    "if __name__ == \"__main__\":\n",
    "    metodo_diferencas_finitas()"
   ]
  },
  {
   "cell_type": "code",
   "execution_count": 1,
   "metadata": {},
   "outputs": [],
   "source": [
    "import pandas as pd\n",
    "import numpy as np\n",
    "import seaborn as sns\n",
    "\n",
    "csv_folder = \"../csv/\"\n",
    "csv_name = \"viagem\"\n",
    "\n",
    "dataframe = pd.read_csv(csv_folder+csv_name+\".csv\")"
   ]
  },
  {
   "cell_type": "code",
   "execution_count": 2,
   "metadata": {},
   "outputs": [
    {
     "name": "stdout",
     "output_type": "stream",
     "text": [
      "['tempo', 'distancia']\n"
     ]
    }
   ],
   "source": [
    "print(dataframe.columns.to_list())\n",
    "\n",
    "column_x = \"tempo\"\n",
    "column_y = \"distancia\""
   ]
  },
  {
   "cell_type": "code",
   "execution_count": 3,
   "metadata": {},
   "outputs": [
    {
     "name": "stdout",
     "output_type": "stream",
     "text": [
      "   tempo  distancia\n",
      "0      0         20\n",
      "1      8         12\n",
      "2     20          6\n",
      "3     25          4\n"
     ]
    }
   ],
   "source": [
    "print(dataframe)\n",
    "\n",
    "# lista de elementos X\n",
    "list_x = dataframe[column_x].to_list()\n",
    "# lista de elementos Y\n",
    "list_y = dataframe[column_y].to_list()"
   ]
  },
  {
   "cell_type": "markdown",
   "metadata": {},
   "source": []
  },
  {
   "cell_type": "markdown",
   "metadata": {},
   "source": [
    "${D_{i}}^n = \\frac{{D_{yi + 1}}^{n-1} - {D_{yi}}^{n-1}}{Y_{i+N} - X_{i}}$ "
   ]
  }
 ],
 "metadata": {
  "kernelspec": {
   "display_name": ".venv",
   "language": "python",
   "name": "python3"
  },
  "language_info": {
   "codemirror_mode": {
    "name": "ipython",
    "version": 3
   },
   "file_extension": ".py",
   "mimetype": "text/x-python",
   "name": "python",
   "nbconvert_exporter": "python",
   "pygments_lexer": "ipython3",
   "version": "3.11.9"
  }
 },
 "nbformat": 4,
 "nbformat_minor": 2
}
