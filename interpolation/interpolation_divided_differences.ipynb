{
  "cells": [
    {
      "cell_type": "code",
      "execution_count": null,
      "metadata": {
        "id": "R46m-LW0b_UA"
      },
      "outputs": [],
      "source": [
        "# Importação das bibliotecas\n",
        "import pandas as pd\n",
        "import numpy as np\n",
        "import seaborn as sns\n",
        "\n",
        "# Configura o tema do Seaborn para os gráficos\n",
        "sns.set_theme(context=\"notebook\",style=\"whitegrid\",palette=\"flare\")\n",
        "\n",
        "# Defina os valores de X\n",
        "list_x = [0,1,2,3,4]\n",
        "# Defina os valores de Y\n",
        "list_y = [70,57.8,48.9,42.2,37.5]\n",
        "\n",
        "# Pontos de X e Y em um gráfico\n",
        "sns.scatterplot(x=list_x, y=list_y, color=\"r\")"
      ]
    },
    {
      "cell_type": "markdown",
      "metadata": {},
      "source": [
        "## Criação da Tabela"
      ]
    },
    {
      "cell_type": "code",
      "execution_count": null,
      "metadata": {},
      "outputs": [],
      "source": [
        "# Pega a quantidade de pontos de X\n",
        "n = len(list_x)\n",
        "# Inicializa a tabela de diferenças divididas com zeros\n",
        "table = np.zeros((n, n))\n",
        "# A primeira coluna da tabela é preenchida com os valores de y correspondentes a x\n",
        "table[:, 0] = list_y\n",
        "\n",
        "# Preenchimento das colunas da tabela de diferenças divididas\n",
        "for j in range(1, n): # Itera sobre as colunas da tabela (exceto a primeira)\n",
        "    for i in range(n - j): # Itera sobre as linhas, garantindo que não acesse índices inválidos\n",
        "        # Calcula a diferença dividida usando a fórmula:\n",
        "        # f[x_i, ..., x_(i+j)] = (f[x_(i+1), ..., x_(i+j)] - f[x_i, ..., x_(i+j-1)]) / (x_(i+j) - x_i)\n",
        "        table[i, j] = (table[i + 1, j - 1] - table[i, j - 1]) / (list_x[i + j] - list_x[i])\n",
        "# Printa a tabela usando o pandas\n",
        "print(pd.DataFrame(table).to_markdown(index=False, headers=[]))"
      ]
    },
    {
      "cell_type": "markdown",
      "metadata": {},
      "source": [
        "## Formula para calcular o valor"
      ]
    },
    {
      "cell_type": "code",
      "execution_count": null,
      "metadata": {
        "id": "3pAoa995b_UE"
      },
      "outputs": [],
      "source": [
        "def interpolate_value(value, table):\n",
        "    # Obtém os coeficientes da primeira linha da tabela de diferenças divididas\n",
        "    coeffs = table[0, :]\n",
        "    # Inicializa o resultado com o primeiro coeficiente (termo independente)\n",
        "    result = coeffs[0]\n",
        "    # Inicializa o produto acumulado para calcular os termos do polinômio de Newton\n",
        "    product = 1.0\n",
        "    # Loop para calcular o valor interpolado usando a forma de Newton\n",
        "    for i in range(1, n):\n",
        "        # Multiplica pelo próximo termo (x - x_i) para construir o polinômio\n",
        "        product *= (value - list_x[i - 1])\n",
        "        # Adiciona o termo correspondente ao resultado final\n",
        "        result += coeffs[i] * product\n",
        "    # Retorna o valor interpolado\n",
        "    return result"
      ]
    },
    {
      "cell_type": "markdown",
      "metadata": {},
      "source": [
        "## Interpolar um valor"
      ]
    },
    {
      "cell_type": "code",
      "execution_count": null,
      "metadata": {
        "colab": {
          "base_uri": "https://localhost:8080/"
        },
        "id": "vT-CUlTWb_UI",
        "outputId": "fde3b164-7c91-477c-ad7d-0e2eef1b0f3c"
      },
      "outputs": [],
      "source": [
        "# Escolha o valor para Interpolar\n",
        "value_to_interpolate = 4\n",
        "# Chama a função para obter o valor interpolado\n",
        "result = interpolate_value(value_to_interpolate, table)\n",
        "# Printa o valor interpolado no terminal\n",
        "print(f\"Valor Interpolado de X = {value_to_interpolate} é Y = {result:.2f}\")"
      ]
    },
    {
      "cell_type": "markdown",
      "metadata": {},
      "source": [
        "## Gráfico com valores interpolados"
      ]
    },
    {
      "cell_type": "code",
      "execution_count": null,
      "metadata": {
        "colab": {
          "base_uri": "https://localhost:8080/",
          "height": 447
        },
        "id": "blYqoA5cb_UK",
        "outputId": "d25151fb-e52a-4d86-aec3-36fab3097407"
      },
      "outputs": [],
      "source": [
        "# Cria uma lista para os valores que serão interpolados\n",
        "interpolated_list = []\n",
        "# Escolha a quantidade de valores entre o valor maximo e minimo da tabela\n",
        "quantity_of_values = 20\n",
        "# Cria uma lista com N numeros do primeiro valor de X até o ultimo\n",
        "values_to_interpolate = np.linspace(list_x[0],list_x[-1], quantity_of_values)\n",
        "\n",
        "# Interpola os valores gerados acima\n",
        "for value in values_to_interpolate:\n",
        "    result = interpolate_value(value, table)\n",
        "    interpolated_list.append(result)\n",
        "\n",
        "# Plota um gráfico de linha com os valores interpolados\n",
        "sns.lineplot(x=values_to_interpolate, y=interpolated_list, color=\"b\")\n",
        "# Plota um gráfico de pontos com os valores interpolados\n",
        "sns.scatterplot(x=values_to_interpolate, y=interpolated_list, color=\"b\")\n",
        "# Plota um gráfico de pontos com os valores de X e Y dados\n",
        "sns.scatterplot(x=list_x, y=list_y, color=\"r\")"
      ]
    }
  ],
  "metadata": {
    "colab": {
      "provenance": []
    },
    "kernelspec": {
      "display_name": ".venv",
      "language": "python",
      "name": "python3"
    },
    "language_info": {
      "codemirror_mode": {
        "name": "ipython",
        "version": 3
      },
      "file_extension": ".py",
      "mimetype": "text/x-python",
      "name": "python",
      "nbconvert_exporter": "python",
      "pygments_lexer": "ipython3",
      "version": "3.13.2"
    }
  },
  "nbformat": 4,
  "nbformat_minor": 0
}
