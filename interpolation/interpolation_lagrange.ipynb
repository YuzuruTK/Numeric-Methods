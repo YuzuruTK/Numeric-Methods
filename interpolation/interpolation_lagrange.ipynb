{
 "cells": [
  {
   "cell_type": "code",
   "execution_count": 80,
   "metadata": {},
   "outputs": [],
   "source": [
    "# Importa as bibliotecas necessárias\n",
    "import pandas as pd  # Pandas para manipulação de dados tabulares\n",
    "import numpy as np  # NumPy para operações numéricas\n",
    "import seaborn as sns  # Seaborn para visualização de dados\n",
    "from tabulate import tabulate\n",
    "\n",
    "# Define o caminho da pasta onde o arquivo CSV está localizado\n",
    "csv_folder = \"../csv/\"  # Pasta onde o arquivo CSV está armazenado\n",
    "\n",
    "# Define o nome do arquivo CSV (sem a extensão)\n",
    "csv_name = \"garrafa_agua\"  # Nome do arquivo CSV\n",
    "\n",
    "# Lê o arquivo CSV e armazena os dados em um DataFrame do Pandas\n",
    "dataframe = pd.read_csv(csv_folder + csv_name + \".csv\")  # Carrega o arquivo CSV em um DataFrame\n"
   ]
  },
  {
   "cell_type": "markdown",
   "metadata": {},
   "source": [
    "## Mostrando o Dataset"
   ]
  },
  {
   "cell_type": "code",
   "execution_count": 81,
   "metadata": {},
   "outputs": [
    {
     "name": "stdout",
     "output_type": "stream",
     "text": [
      "['tempo', 'temperatura']\n"
     ]
    }
   ],
   "source": [
    "# Exibe a lista de colunas do DataFrame\n",
    "print(dataframe.columns.to_list())\n",
    "\n",
    "# Define as colunas que serão usadas para análise\n",
    "column_x = \"tempo\"\n",
    "column_y = \"temperatura\""
   ]
  },
  {
   "cell_type": "code",
   "execution_count": 82,
   "metadata": {},
   "outputs": [
    {
     "name": "stdout",
     "output_type": "stream",
     "text": [
      "   tempo  temperatura\n",
      "0      0         70.0\n",
      "1      1         57.8\n",
      "2      2         48.9\n",
      "3      3         42.2\n",
      "4      4         37.5\n"
     ]
    }
   ],
   "source": [
    "# Mostra o DataFrame\n",
    "print(dataframe)"
   ]
  },
  {
   "cell_type": "markdown",
   "metadata": {},
   "source": [
    "## Separando os valores do dataset em lista para colocar no sistema"
   ]
  },
  {
   "cell_type": "code",
   "execution_count": 83,
   "metadata": {},
   "outputs": [],
   "source": [
    "# Lista dos elementos de X\n",
    "list_x = dataframe[column_x].to_list()\n",
    "# Lista dos elementos de Y\n",
    "list_y = dataframe[column_y].to_list()"
   ]
  },
  {
   "cell_type": "markdown",
   "metadata": {},
   "source": [
    "## Criação e Resolução do sistema"
   ]
  },
  {
   "cell_type": "code",
   "execution_count": null,
   "metadata": {},
   "outputs": [
    {
     "name": "stdout",
     "output_type": "stream",
     "text": [
      "Matriz A:\n",
      "-  -  --  --  ---\n",
      "1  0   0   0    0\n",
      "1  1   1   1    1\n",
      "1  2   4   8   16\n",
      "1  3   9  27   81\n",
      "1  4  16  64  256\n",
      "-  -  --  --  ---\n",
      "Matriz B:\n",
      "--  ----  ----  ----  ----\n",
      "70  57.8  48.9  42.2  37.5\n",
      "--  ----  ----  ----  ----\n",
      "\n",
      "Matriz de Solução do sistema:\n",
      "--  --------  ------  ---------  ------\n",
      "70  -14.4417  2.6125  -0.408333  0.0375\n",
      "--  --------  ------  ---------  ------\n"
     ]
    }
   ],
   "source": [
    "# Matriz A do sistema\n",
    "matrix_a = []\n",
    "\n",
    "# Matriz B (valores conhecidos de Y, ou seja, os resultados do sistema)\n",
    "matrix_b = list_y\n",
    "\n",
    "# Montando a matriz com os valores de X\n",
    "for i in range(len(dataframe)):\n",
    "    # Lista para armazenar os coeficientes da equação para a linha atual\n",
    "    row = []\n",
    "    # Criando os coeficientes para cada equação do sistema\n",
    "    # Percorre todas as linhas da tabela(número de pontos no dataframe)\n",
    "    for j in range(len(dataframe)):\n",
    "        # Adiciona na linha o valor de X elevado à potência j\n",
    "        row.append(list_x[i] ** j)\n",
    "    \n",
    "    # Converte a lista em um array NumPy\n",
    "    row = np.array(row)\n",
    "    \n",
    "    # Adiciona a linha recém-criada à matriz A\n",
    "    matrix_a.append(row)\n",
    "\n",
    "# Convertendo a matriz A para uma matriz NumPy (necessária para operações matriciais)\n",
    "matrix_a = np.asmatrix(matrix_a)\n",
    "\n",
    "# Exibindo as matrizes\n",
    "print(f\"Matriz A:\\n{tabulate(matrix_a.tolist())}\")\n",
    "print(f\"Matriz B:\\n{tabulate([matrix_b])}\")\n",
    "\n",
    "# Solução do sistema de equações\n",
    "# Multiplicamos a inversa de A por B para encontrar os coeficientes da solução\n",
    "system_solution = np.linalg.inv(matrix_a).dot(matrix_b)\n",
    "\n",
    "# Exibe a matriz solução\n",
    "print(f\"\\nMatriz de Solução do sistema:\\n{tabulate(system_solution.tolist())}\")"
   ]
  },
  {
   "cell_type": "markdown",
   "metadata": {},
   "source": [
    "# Descobrir um valor de Y tendo um valor de X"
   ]
  },
  {
   "cell_type": "code",
   "execution_count": 85,
   "metadata": {},
   "outputs": [
    {
     "name": "stdout",
     "output_type": "stream",
     "text": [
      "O valor de Y para 3.5 é = 39.57734374999942\n",
      "Valor de pontos calculados: 10\n"
     ]
    }
   ],
   "source": [
    "# Número escolhido para previsão específica\n",
    "target_x = 3.5\n",
    "\n",
    "# Converte a solução do sistema para uma lista\n",
    "system_solution_list = system_solution.tolist()[0]\n",
    "\n",
    "# Lista para armazenar os valores previstos de Y\n",
    "predicted_y_list = []\n",
    "\n",
    "# Intervalo entre um ponto e outro\n",
    "step = 0.5\n",
    "\n",
    "# Definição do intervalo de X baseado nos valores mínimos e máximos da lista\n",
    "lowest_number_of_list = min(list_x)\n",
    "highest_number_of_list = max(list_x) + 1\n",
    "\n",
    "# Gera os pontos de X onde Y será calculado\n",
    "generated_x_points = np.arange(lowest_number_of_list, highest_number_of_list, step)\n",
    "\n",
    "# Calcula os valores previstos de Y\n",
    "for x in generated_x_points:\n",
    "    y = 0\n",
    "    for a in range(len(system_solution_list)):\n",
    "        # Faz o \"Somatório\" dos valores de Y\n",
    "        y += system_solution_list[a] * (x ** a)\n",
    "    # Adiciona o valor de Y na lista de valores \"previstos\"\n",
    "    predicted_y_list.append(y)\n",
    "\n",
    "predicted_y = sum(system_solution_list[a] * (target_x ** a) for a in range(len(system_solution_list)))\n",
    "# Printa o valor de Y para o valor desejado de X que havia sido escolhido\n",
    "print(f\"O valor de Y para {target_x} é = {predicted_y}\")\n",
    "\n",
    "# Exibe a quantidade de pontos calculados\n",
    "print(f\"Valor de pontos calculados: {len(predicted_y_list)}\")\n"
   ]
  },
  {
   "cell_type": "code",
   "execution_count": 86,
   "metadata": {},
   "outputs": [
    {
     "data": {
      "image/png": "[encoded data removed]",
      "text/plain": [
       "<Figure size 640x480 with 1 Axes>"
      ]
     },
     "metadata": {},
     "output_type": "display_data"
    }
   ],
   "source": [
    "# criando um grafico de pontos para os dados já conhecidos \n",
    "plot = sns.scatterplot(dataframe, x=dataframe.columns[0], y=dataframe.columns[1])\n",
    "# criando um grafico de linha para os pontos que foram calculados\n",
    "plot = sns.lineplot(x=generated_x_points, y=predicted_y_list, color=\"red\")"
   ]
  }
 ],
 "metadata": {
  "kernelspec": {
   "display_name": ".venv",
   "language": "python",
   "name": "python3"
  },
  "language_info": {
   "codemirror_mode": {
    "name": "ipython",
    "version": 3
   },
   "file_extension": ".py",
   "mimetype": "text/x-python",
   "name": "python",
   "nbconvert_exporter": "python",
   "pygments_lexer": "ipython3",
   "version": "3.13.2"
  }
 },
 "nbformat": 4,
 "nbformat_minor": 2
}
